{
 "cells": [
  {
   "cell_type": "markdown",
   "id": "e911d23b",
   "metadata": {},
   "source": [
    "###  html kodu ile veri çekme"
   ]
  },
  {
   "cell_type": "code",
   "execution_count": null,
   "id": "4d2a64a8",
   "metadata": {},
   "outputs": [],
   "source": [
    "import pandas as pd\n",
    "from bs4 import BeautifulSoup\n",
    "\n",
    "# Verilen HTML kodu\n",
    "\n",
    "html_code = \"\"\"\n",
    "\n",
    "\"\"\"\n",
    "# BeautifulSoup nesnesi oluşturma\n",
    "soup = BeautifulSoup(html_code, 'html.parser')\n",
    "\n",
    "# Boş bir liste oluşturun\n",
    "data = []\n",
    "\n",
    "# Gerekli bilgileri çıkarma ve listeye ekleme\n",
    "tire_boxes = soup.find_all('div', class_='row tire-box-desktop')\n",
    "\n",
    "for tire_box in tire_boxes:\n",
    "    article_size = tire_box.find('span', class_='tire-article-size')\n",
    "    article_name = tire_box.find('span', class_='tire-article-name')\n",
    "    load_index = tire_box.find('span', class_='tire-article-loadindex')\n",
    "    speed_index = tire_box.find('span', class_='tire-article-speedindex')\n",
    "    article_price = tire_box.find('span', class_='tire-buy-button-article-price')\n",
    "    cube_value = tire_box.find('span', class_='cube')\n",
    "    total_price = tire_box.find('span', class_='tire-buy-button-total-price')\n",
    "    \n",
    "    data.append({\n",
    "        'Article Size': article_size.text.strip() if article_size else \"\",\n",
    "        'Article Name': article_name.text.strip() if article_name else \"\",\n",
    "        'Load Index': load_index.text.strip() if load_index else \"\",\n",
    "        'Speed Index': speed_index.text.strip() if speed_index else \"\",\n",
    "        'Article Price': article_price.text.strip() if article_price else \"\",\n",
    "        'Cube Value': cube_value.text.strip() if cube_value else \"\",\n",
    "        'Total Price': total_price.text.strip() if total_price else \"\"\n",
    "    })\n",
    "\n",
    "# Pandas DataFrame oluşturma\n",
    "df = pd.DataFrame(data)\n",
    "\n",
    "# DataFrame'i CSV dosyasına kaydetme\n",
    "df.to_csv('tire_data.csv', index=False)\n",
    "\n",
    "print(\"Veriler CSV dosyasına kaydedildi.\")"
   ]
  }
 ],
 "metadata": {
  "kernelspec": {
   "display_name": "Python 3 (ipykernel)",
   "language": "python",
   "name": "python3"
  },
  "language_info": {
   "codemirror_mode": {
    "name": "ipython",
    "version": 3
   },
   "file_extension": ".py",
   "mimetype": "text/x-python",
   "name": "python",
   "nbconvert_exporter": "python",
   "pygments_lexer": "ipython3",
   "version": "3.9.13"
  }
 },
 "nbformat": 4,
 "nbformat_minor": 5
}
